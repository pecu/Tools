{
 "cells": [
  {
   "cell_type": "code",
   "execution_count": null,
   "id": "cc571d4d",
   "metadata": {},
   "outputs": [],
   "source": [
    "import numpy as np\n",
    "import matplotlib.pyplot as plt\n",
    "import librosa\n",
    "import librosa.display\n",
    "import soundfile as sf\n",
    "\n",
    "data, sampling_rate = librosa.load('your_file.wav', sr=None)\n",
    "\n",
    "time = np.linspace(0, len(data) / sampling_rate, num=len(data))\n",
    "\n",
    "modulation_frequency = 0.5\n",
    "modulation_amplitude = 0.5\n",
    "modulated_data = data * (1 + modulation_amplitude * np.sin(2 * np.pi * modulation_frequency * time))\n",
    "\n",
    "plt.figure(figsize=(12, 4))\n",
    "librosa.display.waveplot(modulated_data, sr=sampling_rate)\n",
    "plt.title('Modulated Audio Waveform')\n",
    "plt.xlabel('Time (s)')\n",
    "plt.ylabel('Amplitude')\n",
    "plt.show()\n",
    "\n",
    "sf.write('modulated_file.wav', modulated_data, sampling_rate)"
   ]
  }
 ],
 "metadata": {
  "kernelspec": {
   "display_name": "Python 3 (ipykernel)",
   "language": "python",
   "name": "python3"
  },
  "language_info": {
   "codemirror_mode": {
    "name": "ipython",
    "version": 3
   },
   "file_extension": ".py",
   "mimetype": "text/x-python",
   "name": "python",
   "nbconvert_exporter": "python",
   "pygments_lexer": "ipython3",
   "version": "3.9.12"
  }
 },
 "nbformat": 4,
 "nbformat_minor": 5
}
